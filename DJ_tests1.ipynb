{
  "nbformat": 4,
  "nbformat_minor": 0,
  "metadata": {
    "colab": {
      "provenance": [],
      "toc_visible": true,
      "authorship_tag": "ABX9TyOatGokSCSIPiaItvW+Nepy",
      "include_colab_link": true
    },
    "kernelspec": {
      "name": "python3",
      "display_name": "Python 3"
    },
    "language_info": {
      "name": "python"
    }
  },
  "cells": [
    {
      "cell_type": "markdown",
      "metadata": {
        "id": "view-in-github",
        "colab_type": "text"
      },
      "source": [
        "<a href=\"https://colab.research.google.com/github/dheerajsharma25/python/blob/master/DJ_tests1.ipynb\" target=\"_parent\"><img src=\"https://colab.research.google.com/assets/colab-badge.svg\" alt=\"Open In Colab\"/></a>"
      ]
    },
    {
      "cell_type": "code",
      "execution_count": null,
      "metadata": {
        "colab": {
          "base_uri": "https://localhost:8080/"
        },
        "id": "nSmqfqsrEID-",
        "outputId": "c871f814-9596-4619-d647-321a5b774c10"
      },
      "outputs": [
        {
          "output_type": "execute_result",
          "data": {
            "text/plain": [
              "True"
            ]
          },
          "metadata": {},
          "execution_count": 1
        }
      ],
      "source": [
        "\"Z\" in 'Zena'\n"
      ]
    },
    {
      "cell_type": "code",
      "source": [
        "\"1\" in'10'"
      ],
      "metadata": {
        "colab": {
          "base_uri": "https://localhost:8080/"
        },
        "id": "48VbyxrWEMxf",
        "outputId": "a0d7d563-e718-4450-b2d4-74ec720cbfe8"
      },
      "execution_count": null,
      "outputs": [
        {
          "output_type": "execute_result",
          "data": {
            "text/plain": [
              "True"
            ]
          },
          "metadata": {},
          "execution_count": 2
        }
      ]
    },
    {
      "cell_type": "code",
      "source": [
        "a=10\n",
        "b=10\n",
        "a is b"
      ],
      "metadata": {
        "colab": {
          "base_uri": "https://localhost:8080/"
        },
        "id": "me9t5DS3EUQL",
        "outputId": "086a06fe-04b5-4dd9-84f2-f23d350b3fc2"
      },
      "execution_count": null,
      "outputs": [
        {
          "output_type": "execute_result",
          "data": {
            "text/plain": [
              "True"
            ]
          },
          "metadata": {},
          "execution_count": 3
        }
      ]
    },
    {
      "cell_type": "code",
      "source": [
        "a=250.5\n",
        "b=250.5\n",
        "print(id(a))\n",
        "print(id(b))\n",
        "a is b #is Is used to find the memory location of values"
      ],
      "metadata": {
        "colab": {
          "base_uri": "https://localhost:8080/"
        },
        "id": "cvNcNH3VEZYl",
        "outputId": "139efe01-16b3-46cf-b864-a4c2b14e00cf"
      },
      "execution_count": null,
      "outputs": [
        {
          "output_type": "stream",
          "name": "stdout",
          "text": [
            "138548813145968\n",
            "138548813148016\n"
          ]
        },
        {
          "output_type": "execute_result",
          "data": {
            "text/plain": [
              "False"
            ]
          },
          "metadata": {},
          "execution_count": 6
        }
      ]
    },
    {
      "cell_type": "code",
      "source": [
        "#input output"
      ],
      "metadata": {
        "id": "C2WFhFsgEuJL"
      },
      "execution_count": null,
      "outputs": []
    },
    {
      "cell_type": "code",
      "source": [
        "Marks =int(input(\"enter the marks: \"))\n",
        "Marks"
      ],
      "metadata": {
        "colab": {
          "base_uri": "https://localhost:8080/"
        },
        "id": "M7yg5AYBGiUA",
        "outputId": "f30721f3-680b-436e-c86c-fbdd5ebed8c2"
      },
      "execution_count": null,
      "outputs": [
        {
          "name": "stdout",
          "output_type": "stream",
          "text": [
            "enter the marks: 10\n"
          ]
        },
        {
          "output_type": "execute_result",
          "data": {
            "text/plain": [
              "10"
            ]
          },
          "metadata": {},
          "execution_count": 10
        }
      ]
    },
    {
      "cell_type": "code",
      "source": [
        "print(\"hi,\",\"How are you\", end=\" \")\n",
        "print(\"hi,\",\"How are you Rahul\")"
      ],
      "metadata": {
        "colab": {
          "base_uri": "https://localhost:8080/"
        },
        "id": "fh69GMlNGpQI",
        "outputId": "136cf7a4-e859-4439-810b-1d12e0ceb65f"
      },
      "execution_count": null,
      "outputs": [
        {
          "output_type": "stream",
          "name": "stdout",
          "text": [
            "hi, How are you hi, How are you Rahul\n"
          ]
        }
      ]
    },
    {
      "cell_type": "code",
      "source": [
        "name = 'Rahul'\n",
        "Company= \"Deloitte\"\n",
        "Salary = 10000\n",
        "print('Hello {}, Your Salary is {}, Your company is {}'.format(name,Salary,Company))"
      ],
      "metadata": {
        "colab": {
          "base_uri": "https://localhost:8080/"
        },
        "id": "sZ4udJKbHmuo",
        "outputId": "307d46fe-af51-4928-9eda-ce45f2fe3a0d"
      },
      "execution_count": null,
      "outputs": [
        {
          "output_type": "stream",
          "name": "stdout",
          "text": [
            "Hello Rahul, Your Salary is 10000, Your company is Deloitte\n"
          ]
        }
      ]
    },
    {
      "cell_type": "code",
      "source": [
        "x = 'upgrad'\n",
        "print(x[5:3:-1])"
      ],
      "metadata": {
        "colab": {
          "base_uri": "https://localhost:8080/"
        },
        "id": "RPoR5qwUJGAU",
        "outputId": "c47d1bbd-ea2c-445c-ed63-f17c96ce7a29"
      },
      "execution_count": null,
      "outputs": [
        {
          "output_type": "stream",
          "name": "stdout",
          "text": [
            "da\n"
          ]
        }
      ]
    },
    {
      "cell_type": "markdown",
      "source": [
        "# New section"
      ],
      "metadata": {
        "id": "AiADyW0gQjPw"
      }
    },
    {
      "cell_type": "code",
      "source": [
        "list1 = [1,2,3,4,5]\n",
        "list1.append([7,8,9])\n",
        "print(list1)"
      ],
      "metadata": {
        "colab": {
          "base_uri": "https://localhost:8080/"
        },
        "id": "QmItfQXHLvJY",
        "outputId": "64310bcf-ab71-4c9a-a55f-e1b5153ef7d8"
      },
      "execution_count": null,
      "outputs": [
        {
          "output_type": "stream",
          "name": "stdout",
          "text": [
            "[1, 2, 3, 4, 5, [7, 8, 9]]\n"
          ]
        }
      ]
    },
    {
      "cell_type": "code",
      "source": [
        "del list1[5]\n",
        "print(list1)"
      ],
      "metadata": {
        "colab": {
          "base_uri": "https://localhost:8080/"
        },
        "id": "jklW-yp_S-Nm",
        "outputId": "1c37f3b5-6b32-4045-b7ce-d6540812f784"
      },
      "execution_count": null,
      "outputs": [
        {
          "output_type": "stream",
          "name": "stdout",
          "text": [
            "[1, 2, 3, 4, 5]\n"
          ]
        }
      ]
    },
    {
      "cell_type": "code",
      "source": [
        "list1.extend([101,102,103])\n",
        "list1"
      ],
      "metadata": {
        "colab": {
          "base_uri": "https://localhost:8080/"
        },
        "id": "xNwHnGx-TI49",
        "outputId": "b058dbbe-c513-4d01-a7d1-670b9ed05244"
      },
      "execution_count": null,
      "outputs": [
        {
          "output_type": "execute_result",
          "data": {
            "text/plain": [
              "[1, 2, 3, 4, 5, 101, 102, 103]"
            ]
          },
          "metadata": {},
          "execution_count": 30
        }
      ]
    },
    {
      "cell_type": "code",
      "source": [
        "list1.index(101)"
      ],
      "metadata": {
        "colab": {
          "base_uri": "https://localhost:8080/"
        },
        "id": "48pcdWLcURow",
        "outputId": "69c5f983-a5d2-476a-e329-5dec78d0b853"
      },
      "execution_count": null,
      "outputs": [
        {
          "output_type": "execute_result",
          "data": {
            "text/plain": [
              "5"
            ]
          },
          "metadata": {},
          "execution_count": 31
        }
      ]
    },
    {
      "cell_type": "code",
      "source": [
        "list1.sort()"
      ],
      "metadata": {
        "id": "hcnrRwA-UWPG"
      },
      "execution_count": null,
      "outputs": []
    },
    {
      "cell_type": "code",
      "source": [
        "list1"
      ],
      "metadata": {
        "colab": {
          "base_uri": "https://localhost:8080/"
        },
        "id": "hS2JH3UtWfib",
        "outputId": "ab9517cc-1f14-419f-8c85-3b0cf01e14ee"
      },
      "execution_count": null,
      "outputs": [
        {
          "output_type": "execute_result",
          "data": {
            "text/plain": [
              "[1, 2, 3, 4, 5, 101, 102, 103]"
            ]
          },
          "metadata": {},
          "execution_count": 33
        }
      ]
    },
    {
      "cell_type": "code",
      "source": [
        "salary = (1,2,3,4,5)"
      ],
      "metadata": {
        "id": "JcXRhPEQWiIJ"
      },
      "execution_count": null,
      "outputs": []
    },
    {
      "cell_type": "code",
      "source": [
        "X = list(salary)\n",
        "X"
      ],
      "metadata": {
        "colab": {
          "base_uri": "https://localhost:8080/"
        },
        "id": "pik554voW58k",
        "outputId": "585048a5-c2f7-489b-90d0-e90a89a4dab5"
      },
      "execution_count": null,
      "outputs": [
        {
          "output_type": "execute_result",
          "data": {
            "text/plain": [
              "[1, 2, 3, 4, 5]"
            ]
          },
          "metadata": {},
          "execution_count": 36
        }
      ]
    },
    {
      "cell_type": "code",
      "source": [
        "salary=tuple(X)\n",
        "salary"
      ],
      "metadata": {
        "colab": {
          "base_uri": "https://localhost:8080/"
        },
        "id": "pLCmsXw1W9bh",
        "outputId": "63e49e81-f255-4913-df33-2234426b4ddc"
      },
      "execution_count": null,
      "outputs": [
        {
          "output_type": "execute_result",
          "data": {
            "text/plain": [
              "(1, 2, 3, 4, 5)"
            ]
          },
          "metadata": {},
          "execution_count": 40
        }
      ]
    },
    {
      "cell_type": "code",
      "source": [
        "print(23//5)"
      ],
      "metadata": {
        "id": "fy-289BtXJrZ",
        "colab": {
          "base_uri": "https://localhost:8080/"
        },
        "outputId": "b369d356-306a-49c0-ac2c-068e27fe0e3f"
      },
      "execution_count": null,
      "outputs": [
        {
          "output_type": "stream",
          "name": "stdout",
          "text": [
            "4\n"
          ]
        }
      ]
    },
    {
      "cell_type": "code",
      "source": [
        "#Take input using input()\n",
        "\n",
        "#input() takes input in form of the string\n",
        "in_string=input()\n",
        "\n",
        "#here extract the two numbers from the string\n",
        "listt = in_string.split(',')\n",
        "x= int(listt[0])\n",
        "y= int(listt[1])\n",
        "\n",
        "#print x and y before swapping\n",
        "print(\"x before swapping: \", x)\n",
        "print(\"y before swapping: \", y)\n",
        "\n",
        "\n",
        "#Writing your swapping code here\n",
        "z=x\n",
        "x=y\n",
        "y=z\n",
        "\n",
        "print()\n",
        "#print x and y after swapping\n",
        "\n",
        "print(\"x after swapping: \",x)\n",
        "print(\"y after swapping: \",y)\n"
      ],
      "metadata": {
        "id": "hhxexqxCLfWd",
        "colab": {
          "base_uri": "https://localhost:8080/"
        },
        "outputId": "839de560-437f-4fcc-ffcf-c817d938ed5b"
      },
      "execution_count": null,
      "outputs": [
        {
          "output_type": "stream",
          "name": "stdout",
          "text": [
            "12, 56\n",
            "x before swapping:  12\n",
            "y before swapping:  56\n",
            "\n",
            "x after swapping:  56\n",
            "y after swapping:  12\n"
          ]
        }
      ]
    },
    {
      "cell_type": "code",
      "source": [
        "#Take input here\n",
        "#we will take input using ast sys\n",
        "import ast\n",
        "input_str = input()\n",
        "\n",
        "#ast.literal_eval() will evaluate the string and make a data structure for the same\n",
        "#here the input is a list since input is in '[...]', so ast.literal_eval() will\n",
        "#make a list with the same data as passed\n",
        "input_list = ast.literal_eval(input_str)\n",
        "\n",
        "#the data or the two values in list is now changed to separate variables\n",
        "day_of_the_week = input_list[0] #first element is an integer denoting the day of the week\n",
        "is_on_vacation = input_list[1] #this is a boolean denoting if its vacation or not\n",
        "\n",
        "# write your code here\n",
        "\n",
        "def alarm_time(day_of_the_week, is_on_vacation):\n",
        "  weekend = [6,7]\n",
        "  if is_on_vacation:\n",
        "    if day_of_the_week not in weekend:\n",
        "      return '10-00'\n",
        "    else:\n",
        "      return 'off'\n",
        "  else:\n",
        "    if day_of_the_week not in weekend:\n",
        "      return '7:00'\n",
        "    else:\n",
        "      return '10:00'\n",
        "print(alarm_time(day_of_the_week, is_on_vacation))"
      ],
      "metadata": {
        "id": "-Xm6Evm3D9Cx",
        "colab": {
          "base_uri": "https://localhost:8080/"
        },
        "outputId": "e5f36448-3a84-44c3-b103-a8fe4de7a956"
      },
      "execution_count": 3,
      "outputs": [
        {
          "output_type": "stream",
          "name": "stdout",
          "text": [
            "1, False\n",
            "7:00\n"
          ]
        }
      ]
    },
    {
      "cell_type": "code",
      "source": [
        "#take the input here\n",
        "number=int(input())\n",
        "\n",
        "\n",
        "\n",
        "#the function definition starts here\n",
        "def factorial(n):\n",
        "    #write the funtion here that finds and RETURNS factorial of next\n",
        "  fact = 1\n",
        "  if n<=1:\n",
        "    return fact\n",
        "  for i in range(1, n+1):\n",
        "    fact = fact*i\n",
        "  return fact\n",
        "\n",
        "\n",
        "\n",
        "#function definition ends here\n",
        "\n",
        "#do not alter the code typed below\n",
        "k=factorial(number)\n",
        "print(k)"
      ],
      "metadata": {
        "colab": {
          "base_uri": "https://localhost:8080/"
        },
        "id": "43cVuwbZwKhl",
        "outputId": "e45c7495-fd62-4adc-faf7-598ab53b7290"
      },
      "execution_count": 7,
      "outputs": [
        {
          "output_type": "stream",
          "name": "stdout",
          "text": [
            "3\n",
            "6\n"
          ]
        }
      ]
    },
    {
      "cell_type": "code",
      "source": [
        "#take input of the number here\n",
        "number = int(input())\n",
        "x = number\n",
        "\n",
        "\n",
        "#write code to reverse the number here\n",
        "def reversedd(x):\n",
        "  if x<0:\n",
        "    revnum = int(str(abs(x))[::-1])\n",
        "    return -revnum\n",
        "\n",
        "  else:\n",
        "    return int(str(x)[::-1])\n",
        "\n",
        "\n",
        "z = reversedd(x)\n",
        "print(z)\n",
        "\n"
      ],
      "metadata": {
        "colab": {
          "base_uri": "https://localhost:8080/"
        },
        "id": "WIxhmAaU27Xe",
        "outputId": "95e2097d-34f1-4e8c-a085-5ad193616d37"
      },
      "execution_count": 29,
      "outputs": [
        {
          "output_type": "stream",
          "name": "stdout",
          "text": [
            "6752343\n",
            "3432576\n"
          ]
        }
      ]
    },
    {
      "cell_type": "code",
      "source": [
        "n = int(input())\n",
        "\n",
        "r = 0\n",
        "\n",
        "while(n>0):\n",
        "  r = r*10+n%10\n",
        "  print(r)\n",
        "  n=n//10\n",
        "print(r)"
      ],
      "metadata": {
        "colab": {
          "base_uri": "https://localhost:8080/"
        },
        "id": "Eg-cOz7a27lh",
        "outputId": "029293bd-eb15-464a-f185-46105af9139a"
      },
      "execution_count": 31,
      "outputs": [
        {
          "output_type": "stream",
          "name": "stdout",
          "text": [
            "7896\n",
            "6\n",
            "69\n",
            "698\n",
            "6987\n",
            "6987\n"
          ]
        }
      ]
    },
    {
      "cell_type": "code",
      "source": [
        "x = input()\n",
        "x = x.split(',')\n",
        "m = int(x[0])\n",
        "c =int(x[1])\n",
        "\n",
        "\n",
        "def chocolates(m,c):\n",
        "  choc = m//c\n",
        "  w = m//c\n",
        "  while w//3!=0:\n",
        "    choc = choc + w//3\n",
        "    w = w//3 + w%3\n",
        "  return choc\n",
        "\n",
        "z = chocolates(m,c)\n",
        "print(z)"
      ],
      "metadata": {
        "colab": {
          "base_uri": "https://localhost:8080/"
        },
        "id": "iuAGcEkn271s",
        "outputId": "1c7dab3a-6da6-4476-d5ba-58839f77a26d"
      },
      "execution_count": 33,
      "outputs": [
        {
          "output_type": "stream",
          "name": "stdout",
          "text": [
            "15,2\n",
            "10\n"
          ]
        }
      ]
    },
    {
      "cell_type": "code",
      "source": [
        "n = 5\n",
        "for i in range(1,n+1):\n",
        "  for j in range(n-i):\n",
        "    print(' ', end='')\n",
        "  for k in range(i-1):\n",
        "    print('*_', end='')\n",
        "  print('*')\n"
      ],
      "metadata": {
        "colab": {
          "base_uri": "https://localhost:8080/"
        },
        "id": "hX2rKM5GhlAQ",
        "outputId": "93d7cb52-e2ad-44b9-b62f-b9a3fea8a499"
      },
      "execution_count": 35,
      "outputs": [
        {
          "output_type": "stream",
          "name": "stdout",
          "text": [
            "0\n",
            " 1\n",
            " 2\n",
            " 3\n",
            " *\n",
            "0\n",
            " 1\n",
            " 2\n",
            " *_*\n",
            "0\n",
            " 1\n",
            " *_*_*\n",
            "0\n",
            " *_*_*_*\n",
            "*_*_*_*_*\n"
          ]
        }
      ]
    },
    {
      "cell_type": "code",
      "source": [
        "#input have been taken for you here\n",
        "import ast\n",
        "input_str = input()\n",
        "input_list = ast.literal_eval(input_str)\n",
        "\n",
        "#start writing your code here\n",
        "if len(input_list)==0:\n",
        "  print(\"no minimum\")\n",
        "else:\n",
        "  m=input_list[0]\n",
        "  for i in input_list:\n",
        "    if i<m:\n",
        "      m = i\n",
        "  print(m)"
      ],
      "metadata": {
        "colab": {
          "base_uri": "https://localhost:8080/"
        },
        "id": "T95tPpfohlKc",
        "outputId": "432b5221-884c-4d6c-f885-ff79234672ee"
      },
      "execution_count": 45,
      "outputs": [
        {
          "output_type": "stream",
          "name": "stdout",
          "text": [
            "None\n"
          ]
        }
      ]
    },
    {
      "cell_type": "code",
      "source": [
        "nums = [ [2,4,6,8,10],  4]\n",
        "data = nums[0]\n",
        "check = nums[1]\n",
        "\n",
        "s = 0\n",
        "for items in data:\n",
        "  s= s+items\n",
        "\n",
        "Avg = s/len(data)\n",
        "\n",
        "if check>Avg:\n",
        "  print(\"True\")\n",
        "else:\n",
        "  print(\"False\")"
      ],
      "metadata": {
        "colab": {
          "base_uri": "https://localhost:8080/"
        },
        "id": "yUVZSZa8hlYI",
        "outputId": "18c88db2-ea6e-415c-ad61-120397eaa963"
      },
      "execution_count": 49,
      "outputs": [
        {
          "output_type": "stream",
          "name": "stdout",
          "text": [
            "False\n"
          ]
        }
      ]
    },
    {
      "cell_type": "code",
      "source": [
        "#you have to take input on your own here\n",
        "import ast\n",
        "team = ast.literal_eval(input())\n",
        "applicant = ast.literal_eval(input())\n",
        "team = list(team)\n",
        "\n",
        "#write your code here\n",
        "def check_average(data, check):\n",
        "  s = sum(data)\n",
        "\n",
        "  Avg = s/len(data)\n",
        "\n",
        "  if check>Avg:\n",
        "    return 1\n",
        "  else:\n",
        "    return 0\n",
        "\n",
        "\n",
        "for appl in applicant:\n",
        "  is_add = check_average(team, appl)\n",
        "  if is_add==1:\n",
        "    team.append(appl)\n",
        "print(appl)\n",
        "\n",
        "\n"
      ],
      "metadata": {
        "colab": {
          "base_uri": "https://localhost:8080/"
        },
        "id": "zi03c4FThln8",
        "outputId": "480f9cb8-dfa6-4b70-b2db-67f85da08187"
      },
      "execution_count": 56,
      "outputs": [
        {
          "output_type": "stream",
          "name": "stdout",
          "text": [
            "[23, 45, 34, 76, 70, 94]\n",
            "[70,34,94]\n",
            "[23, 45, 34, 76, 70, 94, 70, 94]\n"
          ]
        }
      ]
    },
    {
      "cell_type": "code",
      "source": [],
      "metadata": {
        "id": "iiATOHYwhl2C"
      },
      "execution_count": null,
      "outputs": []
    },
    {
      "cell_type": "code",
      "source": [],
      "metadata": {
        "id": "dalfZ04ShmFI"
      },
      "execution_count": null,
      "outputs": []
    },
    {
      "cell_type": "code",
      "source": [],
      "metadata": {
        "id": "CPaxNq-4hmS2"
      },
      "execution_count": null,
      "outputs": []
    },
    {
      "cell_type": "code",
      "source": [],
      "metadata": {
        "id": "ZuKbhEPGhmg6"
      },
      "execution_count": null,
      "outputs": []
    },
    {
      "cell_type": "code",
      "source": [],
      "metadata": {
        "id": "1QroK7gfhm-z"
      },
      "execution_count": null,
      "outputs": []
    }
  ]
}